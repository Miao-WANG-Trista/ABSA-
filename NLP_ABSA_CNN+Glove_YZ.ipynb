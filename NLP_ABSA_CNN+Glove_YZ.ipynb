{
  "nbformat": 4,
  "nbformat_minor": 0,
  "metadata": {
    "colab": {
      "name": "NLP_ABSA_CNN+Glove_YZ.ipynb",
      "provenance": [],
      "collapsed_sections": [],
      "toc_visible": true,
      "authorship_tag": "ABX9TyMyThJSTkvI1tECeumhSLs9",
      "include_colab_link": true
    },
    "kernelspec": {
      "name": "python3",
      "display_name": "Python 3"
    },
    "language_info": {
      "name": "python"
    }
  },
  "cells": [
    {
      "cell_type": "markdown",
      "metadata": {
        "id": "view-in-github",
        "colab_type": "text"
      },
      "source": [
        "<a href=\"https://colab.research.google.com/github/clutchkingasiimov/ABSA-/blob/main/NLP_ABSA_CNN%2BGlove_YZ.ipynb\" target=\"_parent\"><img src=\"https://colab.research.google.com/assets/colab-badge.svg\" alt=\"Open In Colab\"/></a>"
      ]
    },
    {
      "cell_type": "code",
      "source": [
        "from google.colab import drive\n",
        "drive.mount('/content/drive')"
      ],
      "metadata": {
        "colab": {
          "base_uri": "https://localhost:8080/"
        },
        "id": "2hHeBsYuZlF5",
        "outputId": "2a64d44d-4dca-4a0e-a396-ea235beb87d6"
      },
      "execution_count": null,
      "outputs": [
        {
          "output_type": "stream",
          "name": "stdout",
          "text": [
            "Mounted at /content/drive\n"
          ]
        }
      ]
    },
    {
      "cell_type": "code",
      "execution_count": null,
      "metadata": {
        "id": "UaHRG56MZew0"
      },
      "outputs": [],
      "source": [
        "import pandas as pd\n",
        "import numpy as np\n",
        "import random\n",
        "\n",
        "import torch\n",
        "import torch.nn as nn\n",
        "import torch.nn.functional as F\n",
        "import torch.optim as optim\n",
        "from torchtext.legacy import data"
      ]
    },
    {
      "cell_type": "code",
      "source": [
        "# set random seed\n",
        "SEED = 42\n",
        "\n",
        "random.seed(SEED)\n",
        "np.random.seed(SEED)\n",
        "torch.manual_seed(SEED)\n",
        "torch.backends.cudnn.deterministic = True"
      ],
      "metadata": {
        "id": "QtcyPpZnroF0"
      },
      "execution_count": null,
      "outputs": []
    },
    {
      "cell_type": "markdown",
      "source": [
        "# Load data"
      ],
      "metadata": {
        "id": "UBGt4ti0jDoj"
      }
    },
    {
      "cell_type": "code",
      "source": [
        "def load_data(path):\n",
        "  df = pd.read_csv(path, delimiter='\\t', header=None)\n",
        "  df = df.rename(columns={\n",
        "    0:'polarity',\n",
        "    1:'aspect_cat',\n",
        "    2:'target_term',\n",
        "    3:'char_offset',\n",
        "    4:'sentence'\n",
        "})\n",
        "  return df"
      ],
      "metadata": {
        "id": "aOGNBxNI01r_"
      },
      "execution_count": null,
      "outputs": []
    },
    {
      "cell_type": "code",
      "source": [
        "train = load_data('/content/drive/MyDrive/Colab Notebooks/M2_NLP/exercise2/traindata.csv')\n",
        "val = load_data('/content/drive/MyDrive/Colab Notebooks/M2_NLP/exercise2/devdata.csv')"
      ],
      "metadata": {
        "id": "DMyK7Ie50t30"
      },
      "execution_count": null,
      "outputs": []
    },
    {
      "cell_type": "markdown",
      "source": [
        "# Prepare data"
      ],
      "metadata": {
        "id": "OYRTELmAjIx6"
      }
    },
    {
      "cell_type": "markdown",
      "source": [
        "## TextProcessor"
      ],
      "metadata": {
        "id": "wqC95bdmj3AI"
      }
    },
    {
      "cell_type": "code",
      "source": [
        "import string\n",
        "from typing import Text\n",
        "import re\n",
        "import nltk\n",
        "import spacy \n",
        "nltk.download('punkt')\n",
        "nltk.download('stopwords')\n",
        "\n",
        "from nltk.corpus import stopwords\n",
        "import sklearn \n",
        "\n",
        "\n",
        "class TextProcessor:\n",
        "\n",
        "    def __init__(self,text):\n",
        "        self.text = text\n",
        "        self.stopwords = stopwords.words('english')\n",
        "        #Keeping the special characters, we re-format the punctuation\n",
        "        self.special_chars = re.compile('[{}]'.format(re.escape(string.punctuation)))\n",
        "        self.nlp = spacy.load(\"en_core_web_sm\")\n",
        "        self.processed_text = []\n",
        "\n",
        "    def _iterator(self):\n",
        "        for text in self.text:\n",
        "            yield text\n",
        "\n",
        "    def Preprocess_Text(self):\n",
        "        for text in self._iterator():\n",
        "            #Remove numbers from the string \n",
        "            cleaned_text = re.sub(r'\\d+', '', text)\n",
        "\n",
        "            #Token creation & Lemmatization\n",
        "            doc = self.nlp(cleaned_text)\n",
        "            tokens = [token.lemma_ for token in doc]\n",
        "            tokens = [token.strip().lower() for token in tokens]\n",
        "\n",
        "            #Stopword & Punctuation Removal \n",
        "            cleaned_tokens = [token for token in tokens if token not in self.stopwords]\n",
        "            token_filters = filter(None,[self.special_chars.sub(' ', token) for token in cleaned_tokens])\n",
        "            new_text = ' '.join(token_filters)\n",
        "\n",
        "            #Whitespace removal between pre-existing punctuations & stopwords \n",
        "            new_text = \" \".join(new_text.split())\n",
        "            self.processed_text.append(new_text)\n",
        "        return self.processed_text"
      ],
      "metadata": {
        "colab": {
          "base_uri": "https://localhost:8080/"
        },
        "id": "wa0V-adujRFp",
        "outputId": "a6d22d1c-e0ff-4d2d-baa6-bc690ba9d90e"
      },
      "execution_count": null,
      "outputs": [
        {
          "output_type": "stream",
          "name": "stdout",
          "text": [
            "[nltk_data] Downloading package punkt to /root/nltk_data...\n",
            "[nltk_data]   Unzipping tokenizers/punkt.zip.\n",
            "[nltk_data] Downloading package stopwords to /root/nltk_data...\n",
            "[nltk_data]   Unzipping corpora/stopwords.zip.\n"
          ]
        }
      ]
    },
    {
      "cell_type": "markdown",
      "source": [
        "## Preprocess data"
      ],
      "metadata": {
        "id": "H2D1Ez3Hj8M7"
      }
    },
    {
      "cell_type": "code",
      "source": [
        "def preprocess(df):\n",
        "  tp = TextProcessor(df['sentence'])\n",
        "  df['sentence'] = tp.Preprocess_Text()\n",
        "  df['inputs'] = df['aspect_cat'] + \" \" + \\\n",
        "                  df['target_term'] + \" \" + \\\n",
        "                  df['sentence']\n",
        "\n",
        "  return df[['polarity', 'inputs']] \n"
      ],
      "metadata": {
        "id": "slMk2YoF1gN0"
      },
      "execution_count": null,
      "outputs": []
    },
    {
      "cell_type": "code",
      "source": [
        "train_cleaned = preprocess(train)\n",
        "val_cleaned = preprocess(val)"
      ],
      "metadata": {
        "id": "OcxIMtv114_M"
      },
      "execution_count": null,
      "outputs": []
    },
    {
      "cell_type": "code",
      "source": [
        "train_cleaned"
      ],
      "metadata": {
        "colab": {
          "base_uri": "https://localhost:8080/",
          "height": 424
        },
        "id": "0LdoibuC2XPn",
        "outputId": "09fb6a60-2563-4f2c-d31d-f1c5180805b4"
      },
      "execution_count": null,
      "outputs": [
        {
          "output_type": "execute_result",
          "data": {
            "text/plain": [
              "      polarity                                             inputs\n",
              "0     positive  AMBIENCE#GENERAL seating short sweet – seating...\n",
              "1     positive  AMBIENCE#GENERAL trattoria quaint romantic tra...\n",
              "2     positive  FOOD#QUALITY food different beer offer thier g...\n",
              "3     negative                  SERVICE#GENERAL STAFF staff fired\n",
              "4     positive  FOOD#STYLE_OPTIONS menu menu look great waiter...\n",
              "...        ...                                                ...\n",
              "1498  positive  DRINKS#QUALITY expresso one pron actually like...\n",
              "1499  negative  SERVICE#GENERAL waitress hostess waitress incr...\n",
              "1500  positive  RESTAURANT#PRICES place little place cute inte...\n",
              "1501  positive  RESTAURANT#GENERAL restaurant nice family trad...\n",
              "1502  positive  AMBIENCE#GENERAL atmosphere first time pron go...\n",
              "\n",
              "[1503 rows x 2 columns]"
            ],
            "text/html": [
              "\n",
              "  <div id=\"df-0b6eead6-38f4-4ffd-ae57-efa35abb0f7e\">\n",
              "    <div class=\"colab-df-container\">\n",
              "      <div>\n",
              "<style scoped>\n",
              "    .dataframe tbody tr th:only-of-type {\n",
              "        vertical-align: middle;\n",
              "    }\n",
              "\n",
              "    .dataframe tbody tr th {\n",
              "        vertical-align: top;\n",
              "    }\n",
              "\n",
              "    .dataframe thead th {\n",
              "        text-align: right;\n",
              "    }\n",
              "</style>\n",
              "<table border=\"1\" class=\"dataframe\">\n",
              "  <thead>\n",
              "    <tr style=\"text-align: right;\">\n",
              "      <th></th>\n",
              "      <th>polarity</th>\n",
              "      <th>inputs</th>\n",
              "    </tr>\n",
              "  </thead>\n",
              "  <tbody>\n",
              "    <tr>\n",
              "      <th>0</th>\n",
              "      <td>positive</td>\n",
              "      <td>AMBIENCE#GENERAL seating short sweet – seating...</td>\n",
              "    </tr>\n",
              "    <tr>\n",
              "      <th>1</th>\n",
              "      <td>positive</td>\n",
              "      <td>AMBIENCE#GENERAL trattoria quaint romantic tra...</td>\n",
              "    </tr>\n",
              "    <tr>\n",
              "      <th>2</th>\n",
              "      <td>positive</td>\n",
              "      <td>FOOD#QUALITY food different beer offer thier g...</td>\n",
              "    </tr>\n",
              "    <tr>\n",
              "      <th>3</th>\n",
              "      <td>negative</td>\n",
              "      <td>SERVICE#GENERAL STAFF staff fired</td>\n",
              "    </tr>\n",
              "    <tr>\n",
              "      <th>4</th>\n",
              "      <td>positive</td>\n",
              "      <td>FOOD#STYLE_OPTIONS menu menu look great waiter...</td>\n",
              "    </tr>\n",
              "    <tr>\n",
              "      <th>...</th>\n",
              "      <td>...</td>\n",
              "      <td>...</td>\n",
              "    </tr>\n",
              "    <tr>\n",
              "      <th>1498</th>\n",
              "      <td>positive</td>\n",
              "      <td>DRINKS#QUALITY expresso one pron actually like...</td>\n",
              "    </tr>\n",
              "    <tr>\n",
              "      <th>1499</th>\n",
              "      <td>negative</td>\n",
              "      <td>SERVICE#GENERAL waitress hostess waitress incr...</td>\n",
              "    </tr>\n",
              "    <tr>\n",
              "      <th>1500</th>\n",
              "      <td>positive</td>\n",
              "      <td>RESTAURANT#PRICES place little place cute inte...</td>\n",
              "    </tr>\n",
              "    <tr>\n",
              "      <th>1501</th>\n",
              "      <td>positive</td>\n",
              "      <td>RESTAURANT#GENERAL restaurant nice family trad...</td>\n",
              "    </tr>\n",
              "    <tr>\n",
              "      <th>1502</th>\n",
              "      <td>positive</td>\n",
              "      <td>AMBIENCE#GENERAL atmosphere first time pron go...</td>\n",
              "    </tr>\n",
              "  </tbody>\n",
              "</table>\n",
              "<p>1503 rows × 2 columns</p>\n",
              "</div>\n",
              "      <button class=\"colab-df-convert\" onclick=\"convertToInteractive('df-0b6eead6-38f4-4ffd-ae57-efa35abb0f7e')\"\n",
              "              title=\"Convert this dataframe to an interactive table.\"\n",
              "              style=\"display:none;\">\n",
              "        \n",
              "  <svg xmlns=\"http://www.w3.org/2000/svg\" height=\"24px\"viewBox=\"0 0 24 24\"\n",
              "       width=\"24px\">\n",
              "    <path d=\"M0 0h24v24H0V0z\" fill=\"none\"/>\n",
              "    <path d=\"M18.56 5.44l.94 2.06.94-2.06 2.06-.94-2.06-.94-.94-2.06-.94 2.06-2.06.94zm-11 1L8.5 8.5l.94-2.06 2.06-.94-2.06-.94L8.5 2.5l-.94 2.06-2.06.94zm10 10l.94 2.06.94-2.06 2.06-.94-2.06-.94-.94-2.06-.94 2.06-2.06.94z\"/><path d=\"M17.41 7.96l-1.37-1.37c-.4-.4-.92-.59-1.43-.59-.52 0-1.04.2-1.43.59L10.3 9.45l-7.72 7.72c-.78.78-.78 2.05 0 2.83L4 21.41c.39.39.9.59 1.41.59.51 0 1.02-.2 1.41-.59l7.78-7.78 2.81-2.81c.8-.78.8-2.07 0-2.86zM5.41 20L4 18.59l7.72-7.72 1.47 1.35L5.41 20z\"/>\n",
              "  </svg>\n",
              "      </button>\n",
              "      \n",
              "  <style>\n",
              "    .colab-df-container {\n",
              "      display:flex;\n",
              "      flex-wrap:wrap;\n",
              "      gap: 12px;\n",
              "    }\n",
              "\n",
              "    .colab-df-convert {\n",
              "      background-color: #E8F0FE;\n",
              "      border: none;\n",
              "      border-radius: 50%;\n",
              "      cursor: pointer;\n",
              "      display: none;\n",
              "      fill: #1967D2;\n",
              "      height: 32px;\n",
              "      padding: 0 0 0 0;\n",
              "      width: 32px;\n",
              "    }\n",
              "\n",
              "    .colab-df-convert:hover {\n",
              "      background-color: #E2EBFA;\n",
              "      box-shadow: 0px 1px 2px rgba(60, 64, 67, 0.3), 0px 1px 3px 1px rgba(60, 64, 67, 0.15);\n",
              "      fill: #174EA6;\n",
              "    }\n",
              "\n",
              "    [theme=dark] .colab-df-convert {\n",
              "      background-color: #3B4455;\n",
              "      fill: #D2E3FC;\n",
              "    }\n",
              "\n",
              "    [theme=dark] .colab-df-convert:hover {\n",
              "      background-color: #434B5C;\n",
              "      box-shadow: 0px 1px 3px 1px rgba(0, 0, 0, 0.15);\n",
              "      filter: drop-shadow(0px 1px 2px rgba(0, 0, 0, 0.3));\n",
              "      fill: #FFFFFF;\n",
              "    }\n",
              "  </style>\n",
              "\n",
              "      <script>\n",
              "        const buttonEl =\n",
              "          document.querySelector('#df-0b6eead6-38f4-4ffd-ae57-efa35abb0f7e button.colab-df-convert');\n",
              "        buttonEl.style.display =\n",
              "          google.colab.kernel.accessAllowed ? 'block' : 'none';\n",
              "\n",
              "        async function convertToInteractive(key) {\n",
              "          const element = document.querySelector('#df-0b6eead6-38f4-4ffd-ae57-efa35abb0f7e');\n",
              "          const dataTable =\n",
              "            await google.colab.kernel.invokeFunction('convertToInteractive',\n",
              "                                                     [key], {});\n",
              "          if (!dataTable) return;\n",
              "\n",
              "          const docLinkHtml = 'Like what you see? Visit the ' +\n",
              "            '<a target=\"_blank\" href=https://colab.research.google.com/notebooks/data_table.ipynb>data table notebook</a>'\n",
              "            + ' to learn more about interactive tables.';\n",
              "          element.innerHTML = '';\n",
              "          dataTable['output_type'] = 'display_data';\n",
              "          await google.colab.output.renderOutput(dataTable, element);\n",
              "          const docLink = document.createElement('div');\n",
              "          docLink.innerHTML = docLinkHtml;\n",
              "          element.appendChild(docLink);\n",
              "        }\n",
              "      </script>\n",
              "    </div>\n",
              "  </div>\n",
              "  "
            ]
          },
          "metadata": {},
          "execution_count": 9
        }
      ]
    },
    {
      "cell_type": "markdown",
      "source": [
        "## GloVe embeddings"
      ],
      "metadata": {
        "id": "SZS9XWsvh9Fh"
      }
    },
    {
      "cell_type": "code",
      "source": [
        "TEXT = data.Field(tokenize = 'spacy', \n",
        "                  tokenizer_language = 'en_core_web_sm',\n",
        "                  batch_first = True)\n",
        "LABEL = data.LabelField(dtype = torch.float)"
      ],
      "metadata": {
        "id": "U5whKviliVWB"
      },
      "execution_count": null,
      "outputs": []
    },
    {
      "cell_type": "code",
      "source": [
        "class DataFrameDataset(data.Dataset):\n",
        "  '''\n",
        "  credit: https://gist.github.com/lextoumbourou/8f90313cbc3598ffbabeeaa1741a11c8\n",
        "  '''\n",
        "\n",
        "  def __init__(self, df, text_field, label_field, is_test=False, **kwargs):\n",
        "      fields = [('text', text_field), ('label', label_field)]\n",
        "      examples = []\n",
        "      for i, row in df.iterrows():\n",
        "          label = row.polarity if not is_test else None\n",
        "          text = row.inputs\n",
        "          examples.append(data.Example.fromlist([text, label], fields))\n",
        "\n",
        "      super().__init__(examples, fields, **kwargs)\n",
        "\n",
        "  @staticmethod\n",
        "  def sort_key(ex):\n",
        "      return len(ex.text)\n",
        "\n",
        "  @classmethod\n",
        "  def splits(cls, text_field, label_field, train_df, val_df=None, test_df=None, **kwargs):\n",
        "      train_data, val_data, test_data = (None, None, None)\n",
        "\n",
        "      if train_df is not None:\n",
        "          train_data = cls(train_df.copy(), text_field, label_field, **kwargs)\n",
        "      if val_df is not None:\n",
        "          val_data = cls(val_df.copy(), text_field, label_field, **kwargs)\n",
        "      if test_df is not None:\n",
        "          test_data = cls(test_df.copy(), text_field, label_field, True, **kwargs)\n",
        "\n",
        "      return tuple(d for d in (train_data, val_data, test_data) if d is not None)"
      ],
      "metadata": {
        "id": "ZhnDLaD8iywe"
      },
      "execution_count": null,
      "outputs": []
    },
    {
      "cell_type": "code",
      "source": [
        "train_ds, val_ds = DataFrameDataset.splits(\n",
        "  text_field=TEXT, label_field=LABEL, \n",
        "  train_df=train_cleaned, val_df=val_cleaned)"
      ],
      "metadata": {
        "id": "DnV1Yl9biqiN"
      },
      "execution_count": null,
      "outputs": []
    },
    {
      "cell_type": "code",
      "source": [
        "MAX_VOCAB_SIZE = 25_000\n",
        "\n",
        "TEXT.build_vocab(train_ds, \n",
        "                 max_size = MAX_VOCAB_SIZE, \n",
        "                 vectors = \"glove.6B.100d\", \n",
        "                 unk_init = torch.Tensor.normal_)\n",
        "\n",
        "LABEL.build_vocab(train_ds)"
      ],
      "metadata": {
        "colab": {
          "base_uri": "https://localhost:8080/"
        },
        "id": "YkzrSa0Fh8rp",
        "outputId": "6954496b-050d-4db5-d8e4-ca8bc3338ea7"
      },
      "execution_count": null,
      "outputs": [
        {
          "output_type": "stream",
          "name": "stderr",
          "text": [
            ".vector_cache/glove.6B.zip: 862MB [02:42, 5.32MB/s]                           \n",
            "100%|█████████▉| 399999/400000 [00:15<00:00, 25076.24it/s]\n"
          ]
        }
      ]
    },
    {
      "cell_type": "code",
      "source": [
        "len(TEXT.vocab)"
      ],
      "metadata": {
        "colab": {
          "base_uri": "https://localhost:8080/"
        },
        "id": "z2FFWs9bjW6C",
        "outputId": "a5636745-8f08-40b2-aa33-8d655244d49c"
      },
      "execution_count": null,
      "outputs": [
        {
          "output_type": "execute_result",
          "data": {
            "text/plain": [
              "2385"
            ]
          },
          "metadata": {},
          "execution_count": 14
        }
      ]
    },
    {
      "cell_type": "code",
      "source": [
        "print(LABEL.vocab.stoi)"
      ],
      "metadata": {
        "colab": {
          "base_uri": "https://localhost:8080/"
        },
        "id": "Ri4n9_f9Gng9",
        "outputId": "6137ad98-6682-42e8-c5e1-bd17a82488a2"
      },
      "execution_count": null,
      "outputs": [
        {
          "output_type": "stream",
          "name": "stdout",
          "text": [
            "defaultdict(None, {'positive': 0, 'negative': 1, 'neutral': 2})\n"
          ]
        }
      ]
    },
    {
      "cell_type": "markdown",
      "source": [
        "## Build iterators"
      ],
      "metadata": {
        "id": "lnpJ-nDj8DD2"
      }
    },
    {
      "cell_type": "code",
      "source": [
        "BATCH_SIZE = 5\n",
        "\n",
        "train_iterator, val_iterator = data.BucketIterator.splits(\n",
        "    (train_ds, val_ds), \n",
        "    batch_size = BATCH_SIZE, \n",
        "    device = device)"
      ],
      "metadata": {
        "id": "Swk8qt0x8GR_"
      },
      "execution_count": null,
      "outputs": []
    },
    {
      "cell_type": "markdown",
      "source": [
        "# Build Model"
      ],
      "metadata": {
        "id": "3_XlD6eIrdbJ"
      }
    },
    {
      "cell_type": "markdown",
      "source": [
        "## CNN_Glove"
      ],
      "metadata": {
        "id": "UtNEu4kxpZFy"
      }
    },
    {
      "cell_type": "code",
      "source": [
        "class CNN(nn.Module):\n",
        "    def __init__(self, vocab_size, embedding_dim, n_filters, filter_sizes, output_dim, \n",
        "                 dropout, pad_idx):\n",
        "        \n",
        "        super().__init__()\n",
        "                \n",
        "        self.embedding = nn.Embedding(vocab_size, embedding_dim, padding_idx = pad_idx)\n",
        "        \n",
        "        self.convs = nn.ModuleList([\n",
        "                                    nn.Conv2d(in_channels = 1, \n",
        "                                              out_channels = n_filters, \n",
        "                                              kernel_size = (fs, embedding_dim)) \n",
        "                                    for fs in filter_sizes\n",
        "                                    ])\n",
        "        \n",
        "        self.fc = nn.Linear(len(filter_sizes) * n_filters, output_dim)\n",
        "        \n",
        "        self.dropout = nn.Dropout(dropout)\n",
        "        \n",
        "    def forward(self, text):\n",
        "                \n",
        "        #text = [batch size, sent len]\n",
        "        \n",
        "        embedded = self.embedding(text)\n",
        "                \n",
        "        #embedded = [batch size, sent len, emb dim]\n",
        "        \n",
        "        embedded = embedded.unsqueeze(1)\n",
        "        \n",
        "        #embedded = [batch size, 1, sent len, emb dim]\n",
        "        \n",
        "        conved = [F.relu(conv(embedded)).squeeze(3) for conv in self.convs]\n",
        "            \n",
        "        #conved_n = [batch size, n_filters, sent len - filter_sizes[n] + 1]\n",
        "                \n",
        "        pooled = [F.max_pool1d(conv, conv.shape[2]).squeeze(2) for conv in conved]\n",
        "        \n",
        "        #pooled_n = [batch size, n_filters]\n",
        "        \n",
        "        cat = self.dropout(torch.cat(pooled, dim = 1))\n",
        "\n",
        "        #cat = [batch size, n_filters * len(filter_sizes)]\n",
        "            \n",
        "        return self.fc(cat)"
      ],
      "metadata": {
        "id": "RiP-zUtErfpl"
      },
      "execution_count": null,
      "outputs": []
    },
    {
      "cell_type": "markdown",
      "source": [
        "# Train Model"
      ],
      "metadata": {
        "id": "wlDSAguBlYmT"
      }
    },
    {
      "cell_type": "markdown",
      "source": [
        "## utils"
      ],
      "metadata": {
        "id": "1hlyPNJImj9C"
      }
    },
    {
      "cell_type": "code",
      "source": [
        "def accuracy(preds, y):\n",
        "    \"\"\"\n",
        "    Returns accuracy per batch, i.e. if you get 8/10 right, this returns 0.8, NOT 8\n",
        "    \"\"\"\n",
        "    # #round predictions to the closest integer\n",
        "    top_pred = preds.argmax(1, keepdim = True)\n",
        "    correct = top_pred.eq(y.view_as(top_pred)).sum()\n",
        "    acc = correct.float() / y.shape[0]\n",
        "    return acc"
      ],
      "metadata": {
        "id": "hvBKbiQ2lfab"
      },
      "execution_count": null,
      "outputs": []
    },
    {
      "cell_type": "code",
      "source": [
        "def train_model(model, iterator, optimizer, criterion):\n",
        "    \n",
        "    epoch_loss = 0\n",
        "    epoch_acc = 0\n",
        "    \n",
        "    model.train()\n",
        "    \n",
        "    for batch in iterator:\n",
        "        \n",
        "        optimizer.zero_grad()\n",
        "        \n",
        "        predictions = model(batch.text).squeeze(1)\n",
        "        \n",
        "        loss = criterion(predictions, batch.label.long())\n",
        "        \n",
        "        acc = accuracy(predictions, batch.label)\n",
        "        \n",
        "        loss.backward()\n",
        "        \n",
        "        optimizer.step()\n",
        "        \n",
        "        epoch_loss += loss.item()\n",
        "        epoch_acc += acc.item()\n",
        "    \n",
        "      \n",
        "    return epoch_loss / len(iterator), epoch_acc / len(iterator)"
      ],
      "metadata": {
        "id": "XCNQ6D-slmoa"
      },
      "execution_count": null,
      "outputs": []
    },
    {
      "cell_type": "code",
      "source": [
        "def evaluate_model(model, iterator, criterion):\n",
        "    \n",
        "    epoch_loss = 0\n",
        "    epoch_acc = 0\n",
        "    \n",
        "    model.eval()\n",
        "    \n",
        "    with torch.no_grad():\n",
        "    \n",
        "        for batch in iterator:\n",
        "\n",
        "            predictions = model(batch.text).squeeze(1)\n",
        "            \n",
        "            loss = criterion(predictions, batch.label.long())\n",
        "            \n",
        "            acc = accuracy(predictions, batch.label)\n",
        "\n",
        "            epoch_loss += loss.item()\n",
        "            epoch_acc += acc.item()\n",
        "        \n",
        "    return epoch_loss / len(iterator), epoch_acc / len(iterator)"
      ],
      "metadata": {
        "id": "6saF3qeyloGM"
      },
      "execution_count": null,
      "outputs": []
    },
    {
      "cell_type": "code",
      "source": [
        "import time\n",
        "\n",
        "def epoch_time(start_time, end_time):\n",
        "    elapsed_time = end_time - start_time\n",
        "    elapsed_mins = int(elapsed_time / 60)\n",
        "    elapsed_secs = int(elapsed_time - (elapsed_mins * 60))\n",
        "    return elapsed_mins, elapsed_secs"
      ],
      "metadata": {
        "id": "en5pUqoglpov"
      },
      "execution_count": null,
      "outputs": []
    },
    {
      "cell_type": "code",
      "source": [
        "import matplotlib.pyplot as plt\n",
        "\n",
        "def plot_acc(train_acc, val_acc, nb_epochs):\n",
        "    plt.plot(list(range(nb_epochs+1))[1:], train_acc)\n",
        "    plt.plot(list(range(nb_epochs+1))[1:], val_acc)\n",
        "    plt.legend(['train', 'val'])\n",
        "    plt.xlabel('Epochs')\n",
        "    plt.ylabel('Accuracy')\n",
        "    plt.show()\n",
        "    # plt.savefig('{}/chart.png'.format(save_folder))"
      ],
      "metadata": {
        "id": "_-nKeJQ7mut_"
      },
      "execution_count": null,
      "outputs": []
    },
    {
      "cell_type": "markdown",
      "source": [
        "## with GloVe embeddings"
      ],
      "metadata": {
        "id": "HU6lQmkrmcqr"
      }
    },
    {
      "cell_type": "code",
      "source": [
        "INPUT_DIM = len(TEXT.vocab)\n",
        "EMBEDDING_DIM = 100\n",
        "N_FILTERS = 200\n",
        "FILTER_SIZES = [1,2,3,4]\n",
        "OUTPUT_DIM = 3 # 3 labels\n",
        "DROPOUT = 0.15\n",
        "PAD_IDX = TEXT.vocab.stoi[TEXT.pad_token]\n",
        "\n",
        "model = CNN(INPUT_DIM, EMBEDDING_DIM, N_FILTERS, FILTER_SIZES, OUTPUT_DIM, DROPOUT, PAD_IDX)"
      ],
      "metadata": {
        "id": "Ebpwerekc9fk"
      },
      "execution_count": null,
      "outputs": []
    },
    {
      "cell_type": "code",
      "source": [
        "# load pre-trained embeddings\n",
        "\n",
        "pretrained_embeddings = TEXT.vocab.vectors\n",
        "model.embedding.weight.data.copy_(pretrained_embeddings)"
      ],
      "metadata": {
        "colab": {
          "base_uri": "https://localhost:8080/"
        },
        "id": "hRA7sY9XlHyD",
        "outputId": "6495a710-f4e8-46c9-d079-8732d43b11c3"
      },
      "execution_count": null,
      "outputs": [
        {
          "output_type": "execute_result",
          "data": {
            "text/plain": [
              "tensor([[ 1.9269,  1.4873,  0.9007,  ...,  0.1233,  0.3499,  0.6173],\n",
              "        [ 0.7262,  0.0912, -0.3891,  ...,  0.0821,  0.4440, -0.7240],\n",
              "        [ 0.1134,  0.0624,  0.6683,  ...,  0.4773,  0.0420,  0.0243],\n",
              "        ...,\n",
              "        [ 0.1238,  0.0467,  0.1646,  ..., -0.1151,  0.2209, -0.4480],\n",
              "        [ 0.1164,  0.1429, -0.1048,  ...,  0.4136, -0.1188,  0.0844],\n",
              "        [ 0.4149, -0.3073, -0.3590,  ..., -0.8834,  0.5939,  0.1043]])"
            ]
          },
          "metadata": {},
          "execution_count": 126
        }
      ]
    },
    {
      "cell_type": "code",
      "source": [
        "# zero the initial weights of the unknown and padding tokens\n",
        "\n",
        "UNK_IDX = TEXT.vocab.stoi[TEXT.unk_token]\n",
        "\n",
        "model.embedding.weight.data[UNK_IDX] = torch.zeros(EMBEDDING_DIM)\n",
        "model.embedding.weight.data[PAD_IDX] = torch.zeros(EMBEDDING_DIM)"
      ],
      "metadata": {
        "id": "Rl2KEwPclP1A"
      },
      "execution_count": null,
      "outputs": []
    },
    {
      "cell_type": "code",
      "source": [
        "LR = 1e-4\n",
        "optimizer = optim.Adam(model.parameters(), lr = LR)\n",
        "\n",
        "criterion = nn.CrossEntropyLoss()\n",
        "\n",
        "model = model.to(device)\n",
        "criterion = criterion.to(device)"
      ],
      "metadata": {
        "id": "eD6E_IENlZ4_"
      },
      "execution_count": null,
      "outputs": []
    },
    {
      "cell_type": "code",
      "source": [
        "N_EPOCHS = 10\n",
        "\n",
        "best_valid_loss = float('inf')\n",
        "total_train_acc = []\n",
        "total_val_acc = []\n",
        "\n",
        "for epoch in range(N_EPOCHS):\n",
        "\n",
        "    start_time = time.time()\n",
        "    \n",
        "    train_loss, train_acc = train_model(model, train_iterator, optimizer, criterion)\n",
        "    valid_loss, valid_acc = evaluate_model(model, val_iterator, criterion)\n",
        "    \n",
        "    end_time = time.time()\n",
        "    epoch_mins, epoch_secs = epoch_time(start_time, end_time)\n",
        "\n",
        "    total_train_acc.append(train_acc)\n",
        "    total_val_acc.append(valid_acc)\n",
        "\n",
        "    \n",
        "    if valid_loss < best_valid_loss:\n",
        "        best_valid_loss = valid_loss\n",
        "        torch.save(model.state_dict(), 'model.pt')\n",
        "    \n",
        "    print(f'Epoch: {epoch+1:02} | Epoch Time: {epoch_mins}m {epoch_secs}s')\n",
        "    print(f'\\tTrain Loss: {train_loss:.3f} | Train Acc: {train_acc*100:.2f}%')\n",
        "    print(f'\\t Val. Loss: {valid_loss:.3f} |  Val. Acc: {valid_acc*100:.2f}%')\n",
        "\n",
        "plot_acc(total_train_acc, total_val_acc, N_EPOCHS)"
      ],
      "metadata": {
        "colab": {
          "base_uri": "https://localhost:8080/",
          "height": 800
        },
        "id": "vsqxXZbHlraa",
        "outputId": "8b91dd38-5a18-4650-8068-28ec03708039"
      },
      "execution_count": null,
      "outputs": [
        {
          "output_type": "stream",
          "name": "stdout",
          "text": [
            "Epoch: 01 | Epoch Time: 0m 3s\n",
            "\tTrain Loss: 0.708 | Train Acc: 70.03%\n",
            "\t Val. Loss: 0.674 |  Val. Acc: 70.53%\n",
            "Epoch: 02 | Epoch Time: 0m 4s\n",
            "\tTrain Loss: 0.602 | Train Acc: 75.64%\n",
            "\t Val. Loss: 0.631 |  Val. Acc: 72.63%\n",
            "Epoch: 03 | Epoch Time: 0m 3s\n",
            "\tTrain Loss: 0.534 | Train Acc: 78.60%\n",
            "\t Val. Loss: 0.600 |  Val. Acc: 75.00%\n",
            "Epoch: 04 | Epoch Time: 0m 2s\n",
            "\tTrain Loss: 0.465 | Train Acc: 83.06%\n",
            "\t Val. Loss: 0.570 |  Val. Acc: 77.37%\n",
            "Epoch: 05 | Epoch Time: 0m 2s\n",
            "\tTrain Loss: 0.407 | Train Acc: 86.64%\n",
            "\t Val. Loss: 0.551 |  Val. Acc: 80.00%\n",
            "Epoch: 06 | Epoch Time: 0m 2s\n",
            "\tTrain Loss: 0.361 | Train Acc: 87.80%\n",
            "\t Val. Loss: 0.556 |  Val. Acc: 78.68%\n",
            "Epoch: 07 | Epoch Time: 0m 2s\n",
            "\tTrain Loss: 0.313 | Train Acc: 90.10%\n",
            "\t Val. Loss: 0.542 |  Val. Acc: 79.47%\n",
            "Epoch: 08 | Epoch Time: 0m 2s\n",
            "\tTrain Loss: 0.277 | Train Acc: 91.16%\n",
            "\t Val. Loss: 0.527 |  Val. Acc: 81.84%\n",
            "Epoch: 09 | Epoch Time: 0m 2s\n",
            "\tTrain Loss: 0.239 | Train Acc: 92.43%\n",
            "\t Val. Loss: 0.535 |  Val. Acc: 81.32%\n",
            "Epoch: 10 | Epoch Time: 0m 2s\n",
            "\tTrain Loss: 0.213 | Train Acc: 93.24%\n",
            "\t Val. Loss: 0.535 |  Val. Acc: 80.26%\n"
          ]
        },
        {
          "output_type": "display_data",
          "data": {
            "text/plain": [
              "<Figure size 432x288 with 1 Axes>"
            ],
            "image/png": "[encoded data removed]"
          },
          "metadata": {
            "needs_background": "light"
          }
        }
      ]
    },
    {
      "cell_type": "code",
      "source": [
        "model.load_state_dict(torch.load('model.pt'))\n",
        "\n",
        "test_loss, test_acc = evaluate_model(model, val_iterator, criterion)\n",
        "\n",
        "print(f'Test Loss: {test_loss:.3f} | Test Acc: {test_acc*100:.2f}%')"
      ],
      "metadata": {
        "colab": {
          "base_uri": "https://localhost:8080/"
        },
        "id": "m7vZrGyBRQA-",
        "outputId": "937acef0-818b-40a8-8ee6-01235556fc2a"
      },
      "execution_count": null,
      "outputs": [
        {
          "output_type": "stream",
          "name": "stdout",
          "text": [
            "Test Loss: 0.527 | Test Acc: 81.84%\n"
          ]
        }
      ]
    },
    {
      "cell_type": "code",
      "source": [
        "def get_predsevaluate(model, iterator):\n",
        "\n",
        "  outputs = []\n",
        "  pred_labels = []\n",
        "  \n",
        "  model.eval()\n",
        "  \n",
        "  with torch.no_grad():\n",
        "  \n",
        "      for batch in iterator:\n",
        "\n",
        "        output = model(batch.text).squeeze(1)\n",
        "        outputs.append(output)\n",
        "      \n",
        "      for batch in outputs:\n",
        "        for sentence in batch:\n",
        "          pred = sentence.argmax()\n",
        "          pred_labels.append(pred.item())\n",
        "\n",
        "      \n",
        "  return pred_labels"
      ],
      "metadata": {
        "id": "w3yueAgM92hE"
      },
      "execution_count": null,
      "outputs": []
    },
    {
      "cell_type": "code",
      "source": [
        "get_predsevaluate(model, val_iterator)\n"
      ],
      "metadata": {
        "id": "oPegC_nTzp7p"
      },
      "execution_count": null,
      "outputs": []
    }
  ]
}